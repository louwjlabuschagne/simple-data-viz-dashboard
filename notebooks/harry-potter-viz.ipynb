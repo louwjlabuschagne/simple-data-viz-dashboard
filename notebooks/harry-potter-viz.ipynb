{
 "cells": [
  {
   "cell_type": "markdown",
   "id": "224b0be2",
   "metadata": {
    "toc": true
   },
   "source": [
    "<h1>Table of Contents<span class=\"tocSkip\"></span></h1>\n",
    "<div class=\"toc\"><ul class=\"toc-item\"><li><span><a href=\"#Introduction\" data-toc-modified-id=\"Introduction-1\"><span class=\"toc-item-num\">1&nbsp;&nbsp;</span>Introduction</a></span></li><li><span><a href=\"#Setup\" data-toc-modified-id=\"Setup-2\"><span class=\"toc-item-num\">2&nbsp;&nbsp;</span>Setup</a></span><ul class=\"toc-item\"><li><span><a href=\"#Imports\" data-toc-modified-id=\"Imports-2.1\"><span class=\"toc-item-num\">2.1&nbsp;&nbsp;</span>Imports</a></span></li><li><span><a href=\"#Config\" data-toc-modified-id=\"Config-2.2\"><span class=\"toc-item-num\">2.2&nbsp;&nbsp;</span>Config</a></span></li><li><span><a href=\"#Helper-Functions\" data-toc-modified-id=\"Helper-Functions-2.3\"><span class=\"toc-item-num\">2.3&nbsp;&nbsp;</span>Helper Functions</a></span></li></ul></li><li><span><a href=\"#Data-Acquisition\" data-toc-modified-id=\"Data-Acquisition-3\"><span class=\"toc-item-num\">3&nbsp;&nbsp;</span>Data Acquisition</a></span><ul class=\"toc-item\"><li><span><a href=\"#Books\" data-toc-modified-id=\"Books-3.1\"><span class=\"toc-item-num\">3.1&nbsp;&nbsp;</span>Books</a></span></li><li><span><a href=\"#Characters\" data-toc-modified-id=\"Characters-3.2\"><span class=\"toc-item-num\">3.2&nbsp;&nbsp;</span>Characters</a></span></li></ul></li><li><span><a href=\"#Viz\" data-toc-modified-id=\"Viz-4\"><span class=\"toc-item-num\">4&nbsp;&nbsp;</span>Viz</a></span><ul class=\"toc-item\"><li><span><a href=\"#Basics\" data-toc-modified-id=\"Basics-4.1\"><span class=\"toc-item-num\">4.1&nbsp;&nbsp;</span>Basics</a></span><ul class=\"toc-item\"><li><span><a href=\"#Small-shapes-with-closed-contour-->-object,-idea,-entity,-node\" data-toc-modified-id=\"Small-shapes-with-closed-contour-->-object,-idea,-entity,-node-4.1.1\"><span class=\"toc-item-num\">4.1.1&nbsp;&nbsp;</span>Small shapes with closed contour -&gt; object, idea, entity, node</a></span></li><li><span><a href=\"#Spatial-ordered-graphical-objects-->-related-information-or-a-sequence\" data-toc-modified-id=\"Spatial-ordered-graphical-objects-->-related-information-or-a-sequence-4.1.2\"><span class=\"toc-item-num\">4.1.2&nbsp;&nbsp;</span>Spatial ordered graphical objects -&gt; related information or a sequence</a></span></li><li><span><a href=\"#Objects-in-proximity-or-with-same-colour/texture-->-similar-concepts,-related-information\" data-toc-modified-id=\"Objects-in-proximity-or-with-same-colour/texture-->-similar-concepts,-related-information-4.1.3\"><span class=\"toc-item-num\">4.1.3&nbsp;&nbsp;</span>Objects in proximity or with same colour/texture -&gt; similar concepts, related information</a></span></li><li><span><a href=\"#Size-or-height-of-object:-Magnitude,-quantity,-importance,-2D-location\" data-toc-modified-id=\"Size-or-height-of-object:-Magnitude,-quantity,-importance,-2D-location-4.1.4\"><span class=\"toc-item-num\">4.1.4&nbsp;&nbsp;</span>Size or height of object: Magnitude, quantity, importance, 2D location</a></span></li></ul></li><li><span><a href=\"#Complex\" data-toc-modified-id=\"Complex-4.2\"><span class=\"toc-item-num\">4.2&nbsp;&nbsp;</span>Complex</a></span><ul class=\"toc-item\"><li><span><a href=\"#Shapes-connected-by-contour-->-related-entities\" data-toc-modified-id=\"Shapes-connected-by-contour-->-related-entities-4.2.1\"><span class=\"toc-item-num\">4.2.1&nbsp;&nbsp;</span>Shapes connected by contour -&gt; related entities</a></span></li><li><span><a href=\"#Thickness-of-connecting-contour-->-strength-of-relationship\" data-toc-modified-id=\"Thickness-of-connecting-contour-->-strength-of-relationship-4.2.2\"><span class=\"toc-item-num\">4.2.2&nbsp;&nbsp;</span>Thickness of connecting contour -&gt; strength of relationship</a></span></li><li><span><a href=\"#Shapes-enclosed-by-a-contour/texture/colour-->-contained-entities,-related-entities\" data-toc-modified-id=\"Shapes-enclosed-by-a-contour/texture/colour-->-contained-entities,-related-entities-4.2.3\"><span class=\"toc-item-num\">4.2.3&nbsp;&nbsp;</span>Shapes enclosed by a contour/texture/colour -&gt; contained entities, related entities</a></span></li><li><span><a href=\"#Nested/partitioned-regions-->-hierarchical-concepts\" data-toc-modified-id=\"Nested/partitioned-regions-->-hierarchical-concepts-4.2.4\"><span class=\"toc-item-num\">4.2.4&nbsp;&nbsp;</span>Nested/partitioned regions -&gt; hierarchical concepts</a></span></li><li><span><a href=\"#Colour-and-texture-of-connecting-contour-->-type-of-relationship\" data-toc-modified-id=\"Colour-and-texture-of-connecting-contour-->-type-of-relationship-4.2.5\"><span class=\"toc-item-num\">4.2.5&nbsp;&nbsp;</span>Colour and texture of connecting contour -&gt; type of relationship</a></span></li></ul></li></ul></li></ul></div>"
   ]
  },
  {
   "cell_type": "markdown",
   "id": "28753e8c",
   "metadata": {},
   "source": [
    "# Harry Potter Viz"
   ]
  },
  {
   "cell_type": "markdown",
   "id": "fd4bb681",
   "metadata": {},
   "source": [
    "## Introduction"
   ]
  },
  {
   "cell_type": "markdown",
   "id": "ae760476",
   "metadata": {},
   "source": [
    "A notebooks showing various vizualisation heuristics using <a href='https://www.kaggle.com/gulsahdemiryurek/harry-potter-dataset'>this</a> Harry Potter dataset.\n",
    "\n",
    "We'll be looking at the following semantic meanings of patterns and colours:\n",
    "\n",
    "Basic patterns\n",
    "\n",
    "+ Small shapes with closed contour -> object, idea, entity, node\n",
    "+ Spatial ordered graphical objects -> related information or a sequence\n",
    "+ Objects in proximity or with same colour/texture ->  similar concepts, related information\n",
    "+ Size or height of object: Magnitude, quantity, importance, 2D location  \n",
    "\n",
    "More complex patterns\n",
    "\n",
    "+ Shapes connected by contour -> related entities \n",
    "+ Thickness of connecting contour -> strength of relationship\n",
    "+ Colour and texture of connecting contour -> type of relationship\n",
    "+ Shapes enclosed by a contour/texture/colour -> contained entities, related entities\n",
    "+ Nested/partitioned regions -> hierarchical concepts"
   ]
  },
  {
   "cell_type": "markdown",
   "id": "13a2ff28",
   "metadata": {},
   "source": [
    "<img src='https://static1.cbrimages.com/wordpress/wp-content/uploads/2017/12/herry-potter-memes.jpg'>"
   ]
  },
  {
   "cell_type": "markdown",
   "id": "b58dd69e",
   "metadata": {},
   "source": [
    "## Setup"
   ]
  },
  {
   "cell_type": "markdown",
   "id": "ad22b570",
   "metadata": {},
   "source": [
    "### Imports"
   ]
  },
  {
   "cell_type": "code",
   "execution_count": null,
   "id": "b94b3ec8",
   "metadata": {
    "ExecuteTime": {
     "end_time": "2021-08-20T05:42:52.180265Z",
     "start_time": "2021-08-20T05:42:51.829478Z"
    }
   },
   "outputs": [],
   "source": [
    "import pandas as pd\n",
    "import plotly.express as px\n",
    "import numpy as np\n",
    "import plotly.graph_objects as go\n",
    "\n",
    "from pathlib import Path\n",
    "import json\n",
    "\n",
    "from unicodedata import normalize"
   ]
  },
  {
   "cell_type": "markdown",
   "id": "a4280192",
   "metadata": {},
   "source": [
    "### Config"
   ]
  },
  {
   "cell_type": "code",
   "execution_count": null,
   "id": "0333f732",
   "metadata": {
    "ExecuteTime": {
     "end_time": "2021-08-20T05:42:52.183434Z",
     "start_time": "2021-08-20T05:42:52.181540Z"
    }
   },
   "outputs": [],
   "source": [
    "data_dir = Path('./data')\n",
    "pd.options.display.max_rows = 100\n",
    "pd.options.display.max_columns = 100\n",
    "plotly_template='plotly_dark'"
   ]
  },
  {
   "cell_type": "markdown",
   "id": "2a3897b2",
   "metadata": {},
   "source": [
    "### Helper Functions"
   ]
  },
  {
   "cell_type": "code",
   "execution_count": null,
   "id": "1d0f0bdf",
   "metadata": {
    "ExecuteTime": {
     "end_time": "2021-08-20T05:42:52.188752Z",
     "start_time": "2021-08-20T05:42:52.185056Z"
    }
   },
   "outputs": [],
   "source": [
    "def convert_to_float(x):\n",
    "    try:\n",
    "        r = float(x)\n",
    "    except:\n",
    "        r = np.NaN\n",
    "    return r"
   ]
  },
  {
   "cell_type": "markdown",
   "id": "5e2b4ea6",
   "metadata": {},
   "source": [
    "## Data Acquisition"
   ]
  },
  {
   "cell_type": "markdown",
   "id": "568d8e48",
   "metadata": {},
   "source": [
    "### Books"
   ]
  },
  {
   "cell_type": "code",
   "execution_count": null,
   "id": "860bc825",
   "metadata": {
    "ExecuteTime": {
     "end_time": "2021-08-20T05:42:52.205619Z",
     "start_time": "2021-08-20T05:42:52.189523Z"
    }
   },
   "outputs": [],
   "source": [
    "df_philosopher= pd.read_csv(data_dir/'Harry Potter 1.csv', sep=';')\n",
    "df_chamber= pd.read_csv(data_dir/'Harry Potter 2.csv', sep=';')\n",
    "\n",
    "def clean_book(df):\n",
    "    df.columns = [c.lower().strip().replace(' ','_') for c in df.columns]\n",
    "    df['character'] = df['character'].str.strip().str.lower()\n",
    "    df['sentence'] = df['sentence'].str.lower()\n",
    "    return df\n",
    "\n",
    "df_philosopher = clean_book(df_philosopher)\n",
    "df_chamber = clean_book(df_chamber)"
   ]
  },
  {
   "cell_type": "code",
   "execution_count": null,
   "id": "86411172",
   "metadata": {
    "ExecuteTime": {
     "end_time": "2021-08-20T05:42:52.214012Z",
     "start_time": "2021-08-20T05:42:52.206375Z"
    }
   },
   "outputs": [],
   "source": [
    "df_philosopher.sample(4)"
   ]
  },
  {
   "cell_type": "code",
   "execution_count": null,
   "id": "b428d0b4",
   "metadata": {
    "ExecuteTime": {
     "end_time": "2021-08-20T05:42:52.219740Z",
     "start_time": "2021-08-20T05:42:52.214924Z"
    }
   },
   "outputs": [],
   "source": [
    "df_chamber.sample(4)"
   ]
  },
  {
   "cell_type": "markdown",
   "id": "da1447e6",
   "metadata": {},
   "source": [
    "### Characters"
   ]
  },
  {
   "cell_type": "code",
   "execution_count": null,
   "id": "beba3587",
   "metadata": {
    "ExecuteTime": {
     "end_time": "2021-08-20T05:42:52.242284Z",
     "start_time": "2021-08-20T05:42:52.227951Z"
    }
   },
   "outputs": [],
   "source": [
    "df_characters = pd.read_csv(data_dir/'Characters.csv', sep=';', encoding='latin-1')\n",
    "df_characters.columns = [c.lower().strip().replace(' ','_') for c in df_characters.columns]\n",
    "df_characters['blood_status'] = df_characters['blood_status'].apply(lambda ai: normalize('NFKD',str(ai)))\n",
    "\n",
    "blood_status_map = {\n",
    "'Part-HumanÂ (Half-giant)':'Part-Human', \n",
    "'Half-bloodÂ orÂ pure-blood':'Half-blood or Pure-blood',\n",
    "'Pure-bloodÂ orÂ half-blood':'Half-blood or Pure-blood',\n",
    "'Pure-bloodÂ orÂ Half-blood':'Half-blood or Pure-blood',\n",
    "'Pure-blood or half-blood':'Half-blood or Pure-blood',\n",
    "'Half-blood[':'Half-blood',\n",
    "'Muggle-bornÂ orÂ half-blood[':'Muggle-born',\n",
    "}\n",
    "\n",
    "df_characters['blood_status'] = df_characters['blood_status'].apply(lambda ai: blood_status_map.get(ai, ai))\n",
    "\n",
    "df_characters.sample(3)"
   ]
  },
  {
   "cell_type": "code",
   "execution_count": null,
   "id": "93333a88",
   "metadata": {
    "ExecuteTime": {
     "end_time": "2021-08-20T05:42:52.261003Z",
     "start_time": "2021-08-20T05:42:52.243265Z"
    }
   },
   "outputs": [],
   "source": [
    "df_characters_short = pd.read_csv(data_dir/'shortversioncharacters.csv')\n",
    "df_characters_short.columns = [c.lower() for c in df_characters_short.columns]\n",
    "df_characters_short['dateofbirth'] = df_characters_short['dateofbirth'].astype('datetime64[ns]')\n",
    "df_characters_short['wand_wood'] = df_characters_short['wand'].apply(lambda ai: json.loads(ai.replace(\"'\", '\"'))['wood'])\n",
    "df_characters_short['wand_core'] = df_characters_short['wand'].apply(lambda ai: json.loads(ai.replace(\"'\", '\"'))['core'])\n",
    "df_characters_short['wand_length'] = df_characters_short['wand'].apply(lambda ai: json.loads(ai.replace(\"'\", '\"'))['length'])\n",
    "df_characters_short['wand_length'] = df_characters_short['wand_length'].apply(lambda ai: convert_to_float(ai))\n",
    "df_characters_short.sample(3)"
   ]
  },
  {
   "cell_type": "markdown",
   "id": "3401bbb4",
   "metadata": {},
   "source": [
    "## Viz"
   ]
  },
  {
   "cell_type": "markdown",
   "id": "84378ed6",
   "metadata": {},
   "source": [
    "### Basics"
   ]
  },
  {
   "cell_type": "markdown",
   "id": "ae4761db",
   "metadata": {},
   "source": [
    "#### Small shapes with closed contour -> object, idea, entity, node\n",
    "#### Spatial ordered graphical objects -> related information or a sequence"
   ]
  },
  {
   "cell_type": "code",
   "execution_count": null,
   "id": "45711645",
   "metadata": {
    "ExecuteTime": {
     "end_time": "2021-08-20T05:42:52.520159Z",
     "start_time": "2021-08-20T05:42:52.262013Z"
    },
    "code_folding": []
   },
   "outputs": [],
   "source": [
    "px.scatter(df_characters_short,\n",
    "           x='dateofbirth',\n",
    "           y='name',\n",
    "           color='name',\n",
    "           title='Birthday per character',\n",
    "           template=plotly_template)\\\n",
    ".update_yaxes(title='')\\\n",
    ".update_xaxes(title='')\\\n",
    ".update_layout(showlegend=False)\\\n",
    ".add_layout_image(\n",
    "    dict(\n",
    "        source=\"data:image/svg+xml;base64,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\",\n",
    "        xref=\"paper\", yref=\"paper\",\n",
    "        x=1, y=1,\n",
    "        sizex=0.1, sizey=0.25,\n",
    "        xanchor=\"right\", yanchor=\"bottom\"\n",
    "    )\n",
    ")"
   ]
  },
  {
   "cell_type": "markdown",
   "id": "78119fd3",
   "metadata": {},
   "source": [
    "#### Objects in proximity or with same colour/texture -> similar concepts, related information"
   ]
  },
  {
   "cell_type": "code",
   "execution_count": null,
   "id": "4dca6287",
   "metadata": {
    "ExecuteTime": {
     "end_time": "2021-08-20T05:42:52.582338Z",
     "start_time": "2021-08-20T05:42:52.520955Z"
    }
   },
   "outputs": [],
   "source": [
    "px.bar(df_characters[~df_characters['blood_status'].isna()],\n",
    "           x='house',\n",
    "           color='blood_status',\n",
    "           title='Blood Status per House',\n",
    "           template=plotly_template)\\\n",
    ".update_yaxes(title='')\\\n",
    ".update_xaxes(title='')"
   ]
  },
  {
   "cell_type": "markdown",
   "id": "d12dcd91",
   "metadata": {},
   "source": [
    "Would've been happy, but the repeting blue is a problem, so we change the color pallet and add some texture."
   ]
  },
  {
   "cell_type": "code",
   "execution_count": null,
   "id": "98224a15",
   "metadata": {
    "ExecuteTime": {
     "end_time": "2021-08-20T05:42:52.640176Z",
     "start_time": "2021-08-20T05:42:52.584695Z"
    }
   },
   "outputs": [],
   "source": [
    "px.bar(df_characters[~df_characters['blood_status'].isna()]\n",
    "       .groupby(['blood_status', 'house']).count().reset_index(),\n",
    "       x='house',\n",
    "       y='name',\n",
    "       color_discrete_sequence=px.colors.qualitative.Light24,\n",
    "       pattern_shape='blood_status',\n",
    "       color='blood_status',\n",
    "       title='Blood Status per House',\n",
    "       template=plotly_template)\\\n",
    "    .update_yaxes(title='')\\\n",
    "    .update_xaxes(title='')"
   ]
  },
  {
   "cell_type": "markdown",
   "id": "b2ff7b1f",
   "metadata": {},
   "source": [
    "For interst sake the people in Slyterin who aren't pure bloods are:"
   ]
  },
  {
   "cell_type": "code",
   "execution_count": null,
   "id": "0c0ebfb7",
   "metadata": {
    "ExecuteTime": {
     "end_time": "2021-08-20T05:42:52.646477Z",
     "start_time": "2021-08-20T05:42:52.641053Z"
    }
   },
   "outputs": [],
   "source": [
    "df_characters[\n",
    "    (df_characters['blood_status'] == 'Half-blood') &\n",
    "    (df_characters['house'] == 'Slytherin')\n",
    "][['name', 'blood_status']]"
   ]
  },
  {
   "cell_type": "markdown",
   "id": "c34b14ea",
   "metadata": {},
   "source": [
    "To drive the point home for colours, if we were to plot the 4 Hogwarts houses, I would put in the time to get their hex codes."
   ]
  },
  {
   "cell_type": "code",
   "execution_count": null,
   "id": "2a24f7a2",
   "metadata": {
    "ExecuteTime": {
     "end_time": "2021-08-20T05:42:52.692012Z",
     "start_time": "2021-08-20T05:42:52.647627Z"
    }
   },
   "outputs": [],
   "source": [
    "houses_color_map = {'Gryffindor': '#9e0109',\n",
    "                    'Ravenclaw': '#0e4177',\n",
    "                    'Slytherin': '#008300',\n",
    "                    'Hufflepuff': '#b4a335'}\n",
    "\n",
    "px.bar(df_characters[df_characters['house'].isin(houses_color_map.keys())],\n",
    "       x='gender',\n",
    "       color='house',\n",
    "       barmode='group',\n",
    "       title='Genders per House',\n",
    "       color_discrete_map=houses_color_map,\n",
    "       template=plotly_template)\\\n",
    "    .update_yaxes(title='')\\\n",
    "    .update_xaxes(title='')"
   ]
  },
  {
   "cell_type": "markdown",
   "id": "1c3cefa7",
   "metadata": {},
   "source": [
    "#### Size or height of object: Magnitude, quantity, importance, 2D location"
   ]
  },
  {
   "cell_type": "code",
   "execution_count": null,
   "id": "19ddf629",
   "metadata": {
    "ExecuteTime": {
     "end_time": "2021-08-20T05:42:52.740938Z",
     "start_time": "2021-08-20T05:42:52.692998Z"
    }
   },
   "outputs": [],
   "source": [
    "px.scatter(df_characters_short[\n",
    "    (df_characters_short['house'].isin(houses_color_map.keys())) &\n",
    "    (df_characters_short['wand_core'] != '')\n",
    "],\n",
    "    y='wand_length',\n",
    "    x='wand_core',\n",
    "    hover_data=['name'],\n",
    "    color='house',\n",
    "    title='Wand length by Wand core',\n",
    "    symbol_sequence=['star'],\n",
    "    size=[1]*12,\n",
    "    color_discrete_map=houses_color_map,\n",
    "    template=plotly_template)\\\n",
    "    .update_yaxes(title='')\\\n",
    "    .update_xaxes(title='')"
   ]
  },
  {
   "cell_type": "markdown",
   "id": "230a44a5",
   "metadata": {},
   "source": [
    "We could size the symbol according to the wand size as well, to exemplify the size further."
   ]
  },
  {
   "cell_type": "code",
   "execution_count": null,
   "id": "caca437b",
   "metadata": {
    "ExecuteTime": {
     "end_time": "2021-08-20T05:42:52.785137Z",
     "start_time": "2021-08-20T05:42:52.742054Z"
    }
   },
   "outputs": [],
   "source": [
    "px.scatter(df_characters_short[\n",
    "    (df_characters_short['house'].isin(houses_color_map.keys())) &\n",
    "    (df_characters_short['wand_core'] != '')&\n",
    "    (~df_characters_short['wand_length'].isna())\n",
    "],\n",
    "    y='wand_length',\n",
    "    x='wand_wood',\n",
    "    hover_data=['name'],\n",
    "    color='house',\n",
    "    title='Wand length by Wand wood',\n",
    "    symbol_sequence=['star'],\n",
    "    size='wand_length',\n",
    "    color_discrete_map=houses_color_map,\n",
    "    template=plotly_template)\\\n",
    "    .update_yaxes(title='')\\\n",
    "    .update_xaxes(title='')"
   ]
  },
  {
   "cell_type": "code",
   "execution_count": null,
   "id": "8d91d07c",
   "metadata": {
    "ExecuteTime": {
     "end_time": "2021-08-20T05:42:52.834956Z",
     "start_time": "2021-08-20T05:42:52.786049Z"
    }
   },
   "outputs": [],
   "source": [
    "px.scatter_3d(df_characters_short[\n",
    "    (df_characters_short['house'].isin(houses_color_map.keys())) &\n",
    "    (df_characters_short['wand_core'] != '') &\n",
    "    (~df_characters_short['wand_length'].isna())\n",
    "],\n",
    "    z='wand_length',\n",
    "    x='wand_core',\n",
    "    y='wand_wood',\n",
    "    color='house',\n",
    "    symbol_sequence=['circle'],\n",
    "    size='wand_length',\n",
    "    hover_data=['name'],\n",
    "    title='Wand length by Wand wood by Wand core',\n",
    "    color_discrete_map=houses_color_map,\n",
    "    template=plotly_template)\\\n",
    "    .update_layout(scene=dict(\n",
    "        xaxis=dict(title=''),\n",
    "        yaxis=dict(title=''),\n",
    "        zaxis=dict(title='')\n",
    "    )\n",
    ")"
   ]
  },
  {
   "cell_type": "markdown",
   "id": "f38faebb",
   "metadata": {},
   "source": [
    "Is this 3D justified? "
   ]
  },
  {
   "cell_type": "markdown",
   "id": "08bc7086",
   "metadata": {},
   "source": [
    "### Complex"
   ]
  },
  {
   "cell_type": "markdown",
   "id": "cbbba282",
   "metadata": {},
   "source": [
    "#### Shapes connected by contour -> related entities\n",
    "#### Thickness of connecting contour -> strength of relationship"
   ]
  },
  {
   "cell_type": "code",
   "execution_count": null,
   "id": "cab932df",
   "metadata": {
    "ExecuteTime": {
     "end_time": "2021-08-20T05:42:52.901275Z",
     "start_time": "2021-08-20T05:42:52.835909Z"
    }
   },
   "outputs": [],
   "source": [
    "for character in df_philosopher['character'].unique():\n",
    "    df_philosopher[f'{character}'] = df_philosopher['sentence'].str.count(character)\n",
    "\n",
    "df_mentions =  df_philosopher.groupby('character')\\\n",
    ".sum().reset_index()\\\n",
    ".melt(id_vars='character', var_name='mentions', value_name='count')\n",
    "\n",
    "characters = list(df_mentions['character'].unique())\n",
    "\n",
    "df_mentions['speaker'] = df_mentions['character'].apply(lambda ai: characters.index(ai))\n",
    "df_mentions['mentioner'] = df_mentions['mentions'].apply(lambda ai: characters.index(ai)+len(character))"
   ]
  },
  {
   "cell_type": "code",
   "execution_count": null,
   "id": "729ed2b4",
   "metadata": {
    "ExecuteTime": {
     "end_time": "2021-08-20T05:42:52.924004Z",
     "start_time": "2021-08-20T05:42:52.902321Z"
    }
   },
   "outputs": [],
   "source": [
    "fig = go.Figure(data=[go.Sankey(\n",
    "    node=dict(\n",
    "        label=characters+characters,\n",
    "    ),\n",
    "    link=dict(\n",
    "        source=df_mentions['speaker'].values,\n",
    "        target=df_mentions['mentioner'].values,\n",
    "        value=df_mentions['count'].values\n",
    "    ))])\n",
    "\n",
    "fig.update_layout(title_text=\"Who speaks about who\",\n",
    "                  height=1000,\n",
    "                  )\n",
    "fig.show()"
   ]
  },
  {
   "cell_type": "markdown",
   "id": "4c7dde01",
   "metadata": {},
   "source": [
    "Would this work as a static image? "
   ]
  },
  {
   "cell_type": "markdown",
   "id": "5a35aa73",
   "metadata": {},
   "source": [
    "#### Shapes enclosed by a contour/texture/colour -> contained entities, related entities\n",
    "#### Nested/partitioned regions -> hierarchical concepts\n",
    "#### Colour and texture of connecting contour -> type of relationship"
   ]
  },
  {
   "cell_type": "code",
   "execution_count": null,
   "id": "0ec5892e",
   "metadata": {
    "ExecuteTime": {
     "end_time": "2021-08-20T05:42:52.949170Z",
     "start_time": "2021-08-20T05:42:52.924866Z"
    }
   },
   "outputs": [],
   "source": [
    "df_chamber['nr_words_in_speech'] = df_chamber['sentence']\\\n",
    "    .apply(lambda ai: len(ai.split(' ')))\n",
    "df_chamber['avg_word_length'] = df_chamber['sentence']\\\n",
    "    .apply(lambda ai: np.mean([len(v) for v in ai.split(' ')]))\n",
    "\n",
    "df_name_map = {'harry': 'Harry Potter',\n",
    "               'ron': 'Ron Weasley',\n",
    "               'ginny': 'Ginny Weasley',\n",
    "               'mr. weasley': 'Arthur Weasley',\n",
    "               'lucius malfoy': 'Lucius Malfoy',\n",
    "               'draco': 'Draco Malfoy',\n",
    "               'hagrid': 'Rubeus Hagrid',\n",
    "               'hermione': 'Hermione Granger',\n",
    "               'snape': 'Severus Snape',\n",
    "               'tom riddle': 'Lord Voldemort'}\n",
    "\n",
    "df_chamber['name'] = df_chamber['character'].map(df_name_map)\n",
    "df_chamber = df_chamber[~df_chamber['name'].isna()]\n",
    "df_chamber_details = df_chamber.merge(df_characters_short,\n",
    "                                      on='name',\n",
    "                                      how='left')"
   ]
  },
  {
   "cell_type": "code",
   "execution_count": null,
   "id": "8c58fbdc",
   "metadata": {
    "ExecuteTime": {
     "end_time": "2021-08-20T05:42:52.961510Z",
     "start_time": "2021-08-20T05:42:52.950293Z"
    }
   },
   "outputs": [],
   "source": [
    "df_chamber_details_aggr = df_chamber_details\\\n",
    "    .groupby(['house', 'ancestry', 'hogwartsstaff'])\\\n",
    "    .mean().reset_index()\n",
    "df_chamber_details_aggr"
   ]
  },
  {
   "cell_type": "code",
   "execution_count": null,
   "id": "97c52277",
   "metadata": {
    "ExecuteTime": {
     "end_time": "2021-08-20T05:42:53.044536Z",
     "start_time": "2021-08-20T05:42:52.963929Z"
    }
   },
   "outputs": [],
   "source": [
    "px.sunburst(df_chamber_details_aggr,\n",
    "            path=['house', 'ancestry'],\n",
    "            values='avg_word_length',\n",
    "            title='Average word length by house by ancestry',\n",
    "            width=500,\n",
    "            color_discrete_sequence=[houses_color_map['Gryffindor'],\n",
    "                                     houses_color_map['Slytherin']],\n",
    "            template=plotly_template)"
   ]
  },
  {
   "cell_type": "code",
   "execution_count": null,
   "id": "00a41c55",
   "metadata": {
    "ExecuteTime": {
     "end_time": "2021-08-20T05:42:53.089432Z",
     "start_time": "2021-08-20T05:42:53.045539Z"
    }
   },
   "outputs": [],
   "source": [
    "px.sunburst(df_chamber_details_aggr,\n",
    "            path=['house', 'hogwartsstaff'],\n",
    "            values='avg_word_length',\n",
    "            title='Average word length by house by Hogwarts staff',\n",
    "            width=500,\n",
    "            color_discrete_sequence=[houses_color_map['Gryffindor'],\n",
    "                                     houses_color_map['Slytherin']],\n",
    "            template=plotly_template)"
   ]
  },
  {
   "cell_type": "code",
   "execution_count": null,
   "id": "4f24f5c8",
   "metadata": {
    "ExecuteTime": {
     "end_time": "2021-08-20T05:42:53.135802Z",
     "start_time": "2021-08-20T05:42:53.090215Z"
    }
   },
   "outputs": [],
   "source": [
    "px.sunburst(df_chamber_details_aggr,\n",
    "            path=['house', 'ancestry'],\n",
    "            values='wand_length',\n",
    "            branchvalues='remainder',\n",
    "            title='Wand length by house by ancestry',\n",
    "            width=500,\n",
    "            color_discrete_sequence=[houses_color_map['Gryffindor'],\n",
    "                                     houses_color_map['Slytherin']],\n",
    "            template=plotly_template)"
   ]
  }
 ],
 "metadata": {
  "kernelspec": {
   "display_name": "Python 3 (ipykernel)",
   "language": "python",
   "name": "python3"
  },
  "language_info": {
   "codemirror_mode": {
    "name": "ipython",
    "version": 3
   },
   "file_extension": ".py",
   "mimetype": "text/x-python",
   "name": "python",
   "nbconvert_exporter": "python",
   "pygments_lexer": "ipython3",
   "version": "3.8.11"
  },
  "toc": {
   "base_numbering": 1,
   "nav_menu": {},
   "number_sections": true,
   "sideBar": true,
   "skip_h1_title": true,
   "title_cell": "Table of Contents",
   "title_sidebar": "Contents",
   "toc_cell": true,
   "toc_position": {},
   "toc_section_display": true,
   "toc_window_display": true
  },
  "varInspector": {
   "cols": {
    "lenName": 16,
    "lenType": 16,
    "lenVar": 40
   },
   "kernels_config": {
    "python": {
     "delete_cmd_postfix": "",
     "delete_cmd_prefix": "del ",
     "library": "var_list.py",
     "varRefreshCmd": "print(var_dic_list())"
    },
    "r": {
     "delete_cmd_postfix": ") ",
     "delete_cmd_prefix": "rm(",
     "library": "var_list.r",
     "varRefreshCmd": "cat(var_dic_list()) "
    }
   },
   "types_to_exclude": [
    "module",
    "function",
    "builtin_function_or_method",
    "instance",
    "_Feature"
   ],
   "window_display": false
  }
 },
 "nbformat": 4,
 "nbformat_minor": 5
}
